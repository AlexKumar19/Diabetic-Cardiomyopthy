{
 "cells": [
  {
   "cell_type": "code",
   "execution_count": 18,
   "metadata": {},
   "outputs": [],
   "source": [
    "import random\n",
    "numlist = []\n",
    "for i in range(147):\n",
    "    number=random.randrange(0,1497)\n",
    "    numlist.append(number)"
   ]
  },
  {
   "cell_type": "code",
   "execution_count": 19,
   "metadata": {},
   "outputs": [
    {
     "name": "stdout",
     "output_type": "stream",
     "text": [
      "Done\n"
     ]
    }
   ],
   "source": [
    "smiles = []\n",
    "with open(\"FDASmiles.csv\", \"r\") as ins:\n",
    "    for line in ins:\n",
    "        smiles.append(line.split('\\n')[0])\n",
    "controlsmiles = []\n",
    "for i in numlist:\n",
    "    controlsmiles.append(smiles[i])\n",
    "\n",
    "with open(r'FDASMILESFINAL', 'w') as fp:\n",
    "\n",
    "    for item in controlsmiles:\n",
    "        fp.write(\"%s\\n\" % item)\n",
    "    print('Done')"
   ]
  },
  {
   "cell_type": "code",
   "execution_count": null,
   "metadata": {},
   "outputs": [],
   "source": [
    "for i in range()"
   ]
  },
  {
   "cell_type": "code",
   "execution_count": 20,
   "metadata": {},
   "outputs": [],
   "source": [
    "from padelpy import from_smiles\n",
    "_ = from_smiles(controlsmiles[0:25], output_csv='FDA.csv')"
   ]
  },
  {
   "cell_type": "code",
   "execution_count": 21,
   "metadata": {},
   "outputs": [],
   "source": [
    "_ = from_smiles(controlsmiles[25:30], output_csv='FDA1.csv')"
   ]
  },
  {
   "cell_type": "code",
   "execution_count": 22,
   "metadata": {},
   "outputs": [],
   "source": [
    "_ = from_smiles(controlsmiles[30:35], output_csv='FDA2.csv')"
   ]
  },
  {
   "cell_type": "code",
   "execution_count": 23,
   "metadata": {},
   "outputs": [],
   "source": [
    "_ = from_smiles(controlsmiles[35:50], output_csv='FDA3.csv')"
   ]
  },
  {
   "cell_type": "code",
   "execution_count": 24,
   "metadata": {},
   "outputs": [],
   "source": [
    "_ = from_smiles(controlsmiles[50:65], output_csv='FDA4.csv')"
   ]
  },
  {
   "cell_type": "code",
   "execution_count": 25,
   "metadata": {},
   "outputs": [],
   "source": [
    "_ = from_smiles(controlsmiles[65:85], output_csv='FDA5.csv')"
   ]
  },
  {
   "cell_type": "code",
   "execution_count": 26,
   "metadata": {},
   "outputs": [
    {
     "ename": "KeyboardInterrupt",
     "evalue": "",
     "output_type": "error",
     "traceback": [
      "\u001b[0;31m---------------------------------------------------------------------------\u001b[0m",
      "\u001b[0;31mKeyboardInterrupt\u001b[0m                         Traceback (most recent call last)",
      "\u001b[1;32m/home/alexkumar/vscode/Diabetic-Cardiomyopthy/FDA/Drugs.ipynb Cell 9\u001b[0m in \u001b[0;36m<cell line: 1>\u001b[0;34m()\u001b[0m\n\u001b[0;32m----> <a href='vscode-notebook-cell://wsl%2Bubuntu/home/alexkumar/vscode/Diabetic-Cardiomyopthy/FDA/Drugs.ipynb#X11sdnNjb2RlLXJlbW90ZQ%3D%3D?line=0'>1</a>\u001b[0m _ \u001b[39m=\u001b[39m from_smiles(controlsmiles[\u001b[39m85\u001b[39;49m:\u001b[39m100\u001b[39;49m], output_csv\u001b[39m=\u001b[39;49m\u001b[39m'\u001b[39;49m\u001b[39mFDA6.csv\u001b[39;49m\u001b[39m'\u001b[39;49m)\n",
      "File \u001b[0;32m~/anaconda3/lib/python3.9/site-packages/padelpy/functions.py:114\u001b[0m, in \u001b[0;36mfrom_smiles\u001b[0;34m(smiles, output_csv, descriptors, fingerprints, timeout, maxruntime, threads)\u001b[0m\n\u001b[1;32m    112\u001b[0m             \u001b[39mexcept\u001b[39;00m \u001b[39mFileNotFoundError\u001b[39;00m \u001b[39mas\u001b[39;00m e:\n\u001b[1;32m    113\u001b[0m                 warnings\u001b[39m.\u001b[39mwarn(e, \u001b[39mRuntimeWarning\u001b[39;00m)\n\u001b[0;32m--> 114\u001b[0m         \u001b[39mraise\u001b[39;00m kb_exception\n\u001b[1;32m    116\u001b[0m \u001b[39mwith\u001b[39;00m \u001b[39mopen\u001b[39m(output_csv, \u001b[39m\"\u001b[39m\u001b[39mr\u001b[39m\u001b[39m\"\u001b[39m, encoding\u001b[39m=\u001b[39m\u001b[39m\"\u001b[39m\u001b[39mutf-8\u001b[39m\u001b[39m\"\u001b[39m) \u001b[39mas\u001b[39;00m desc_file:\n\u001b[1;32m    117\u001b[0m     reader \u001b[39m=\u001b[39m DictReader(desc_file)\n",
      "File \u001b[0;32m~/anaconda3/lib/python3.9/site-packages/padelpy/functions.py:81\u001b[0m, in \u001b[0;36mfrom_smiles\u001b[0;34m(smiles, output_csv, descriptors, fingerprints, timeout, maxruntime, threads)\u001b[0m\n\u001b[1;32m     79\u001b[0m \u001b[39mfor\u001b[39;00m attempt \u001b[39min\u001b[39;00m \u001b[39mrange\u001b[39m(\u001b[39m3\u001b[39m):\n\u001b[1;32m     80\u001b[0m     \u001b[39mtry\u001b[39;00m:\n\u001b[0;32m---> 81\u001b[0m         padeldescriptor(\n\u001b[1;32m     82\u001b[0m             mol_dir\u001b[39m=\u001b[39;49m\u001b[39m\"\u001b[39;49m\u001b[39m{}\u001b[39;49;00m\u001b[39m.smi\u001b[39;49m\u001b[39m\"\u001b[39;49m\u001b[39m.\u001b[39;49mformat(timestamp),\n\u001b[1;32m     83\u001b[0m             d_file\u001b[39m=\u001b[39;49moutput_csv,\n\u001b[1;32m     84\u001b[0m             convert3d\u001b[39m=\u001b[39;49m\u001b[39mTrue\u001b[39;49;00m,\n\u001b[1;32m     85\u001b[0m             retain3d\u001b[39m=\u001b[39;49m\u001b[39mTrue\u001b[39;49;00m,\n\u001b[1;32m     86\u001b[0m             d_2d\u001b[39m=\u001b[39;49mdescriptors,\n\u001b[1;32m     87\u001b[0m             d_3d\u001b[39m=\u001b[39;49mdescriptors,\n\u001b[1;32m     88\u001b[0m             fingerprints\u001b[39m=\u001b[39;49mfingerprints,\n\u001b[1;32m     89\u001b[0m             sp_timeout\u001b[39m=\u001b[39;49mtimeout,\n\u001b[1;32m     90\u001b[0m             retainorder\u001b[39m=\u001b[39;49m\u001b[39mTrue\u001b[39;49;00m,\n\u001b[1;32m     91\u001b[0m             maxruntime\u001b[39m=\u001b[39;49mmaxruntime,\n\u001b[1;32m     92\u001b[0m             threads\u001b[39m=\u001b[39;49mthreads\n\u001b[1;32m     93\u001b[0m         )\n\u001b[1;32m     94\u001b[0m         \u001b[39mbreak\u001b[39;00m\n\u001b[1;32m     95\u001b[0m     \u001b[39mexcept\u001b[39;00m \u001b[39mRuntimeError\u001b[39;00m \u001b[39mas\u001b[39;00m exception:\n",
      "File \u001b[0;32m~/anaconda3/lib/python3.9/site-packages/padelpy/wrapper.py:165\u001b[0m, in \u001b[0;36mpadeldescriptor\u001b[0;34m(maxruntime, waitingjobs, threads, d_2d, d_3d, config, convert3d, descriptortypes, detectaromaticity, mol_dir, d_file, fingerprints, log, maxcpdperfile, removesalt, retain3d, retainorder, standardizenitro, standardizetautomers, tautomerlist, usefilenameasmolname, sp_timeout, headless)\u001b[0m\n\u001b[1;32m    162\u001b[0m \u001b[39mif\u001b[39;00m usefilenameasmolname \u001b[39mis\u001b[39;00m \u001b[39mTrue\u001b[39;00m:\n\u001b[1;32m    163\u001b[0m     command \u001b[39m+\u001b[39m\u001b[39m=\u001b[39m \u001b[39m'\u001b[39m\u001b[39m -usefilenameasmolname\u001b[39m\u001b[39m'\u001b[39m\n\u001b[0;32m--> 165\u001b[0m _, err \u001b[39m=\u001b[39m _popen_timeout(command, sp_timeout)\n\u001b[1;32m    166\u001b[0m \u001b[39mif\u001b[39;00m err \u001b[39m!=\u001b[39m \u001b[39mb\u001b[39m\u001b[39m'\u001b[39m\u001b[39m'\u001b[39m:\n\u001b[1;32m    167\u001b[0m     \u001b[39mraise\u001b[39;00m \u001b[39mRuntimeError\u001b[39;00m(\u001b[39m'\u001b[39m\u001b[39mPaDEL-Descriptor encountered an error: \u001b[39m\u001b[39m{}\u001b[39;00m\u001b[39m'\u001b[39m\u001b[39m.\u001b[39mformat(\n\u001b[1;32m    168\u001b[0m         err\u001b[39m.\u001b[39mdecode(\u001b[39m'\u001b[39m\u001b[39mutf-8\u001b[39m\u001b[39m'\u001b[39m)\n\u001b[1;32m    169\u001b[0m     ))\n",
      "File \u001b[0;32m~/anaconda3/lib/python3.9/site-packages/padelpy/wrapper.py:43\u001b[0m, in \u001b[0;36m_popen_timeout\u001b[0;34m(command, timeout)\u001b[0m\n\u001b[1;32m     41\u001b[0m \u001b[39mif\u001b[39;00m timeout \u001b[39mis\u001b[39;00m \u001b[39mnot\u001b[39;00m \u001b[39mNone\u001b[39;00m:\n\u001b[1;32m     42\u001b[0m     \u001b[39mfor\u001b[39;00m t \u001b[39min\u001b[39;00m \u001b[39mrange\u001b[39m(timeout):\n\u001b[0;32m---> 43\u001b[0m         sleep(\u001b[39m1\u001b[39;49m)\n\u001b[1;32m     44\u001b[0m         \u001b[39mif\u001b[39;00m p\u001b[39m.\u001b[39mpoll() \u001b[39mis\u001b[39;00m \u001b[39mnot\u001b[39;00m \u001b[39mNone\u001b[39;00m:\n\u001b[1;32m     45\u001b[0m             \u001b[39mreturn\u001b[39;00m p\u001b[39m.\u001b[39mcommunicate()\n",
      "\u001b[0;31mKeyboardInterrupt\u001b[0m: "
     ]
    }
   ],
   "source": [
    "_ = from_smiles(controlsmiles[85:100], output_csv='FDA6.csv')"
   ]
  },
  {
   "cell_type": "code",
   "execution_count": null,
   "metadata": {},
   "outputs": [],
   "source": [
    "_ = from_smiles(controlsmiles[100:120], output_csv='FDA7.csv')"
   ]
  },
  {
   "cell_type": "code",
   "execution_count": null,
   "metadata": {},
   "outputs": [],
   "source": [
    "import pandas as pd\n",
    "df1 = pd.read_csv('FDA.csv')\n",
    "df2 = pd.read_csv('FDA1.csv')\n",
    "df3 = pd.read_csv('FDA2.csv')\n",
    "df4 = pd.read_csv('FDA3.csv')\n",
    "df5 = pd.read_csv('FDA4.csv')\n",
    "df6 = pd.read_csv('FDA5.csv')\n",
    "# df7 = pd.read_csv('FDA6.csv')\n",
    "# df8 = pd.read_csv('FDA7.csv')\n",
    "\n",
    "maindf = [df1,df2,df3,df4,df5,df6,df7,df8]\n",
    "\n",
    "totaldf=pd.concat(maindf)"
   ]
  },
  {
   "cell_type": "code",
   "execution_count": null,
   "metadata": {},
   "outputs": [],
   "source": [
    "totaldf.to_csv('FDAControl.csv')"
   ]
  }
 ],
 "metadata": {
  "kernelspec": {
   "display_name": "base",
   "language": "python",
   "name": "python3"
  },
  "language_info": {
   "codemirror_mode": {
    "name": "ipython",
    "version": 3
   },
   "file_extension": ".py",
   "mimetype": "text/x-python",
   "name": "python",
   "nbconvert_exporter": "python",
   "pygments_lexer": "ipython3",
   "version": "3.9.12"
  },
  "orig_nbformat": 4,
  "vscode": {
   "interpreter": {
    "hash": "126971108c560ce75295ac26010652a3ef02492d6f02a0c6c09b249494330c5a"
   }
  }
 },
 "nbformat": 4,
 "nbformat_minor": 2
}
