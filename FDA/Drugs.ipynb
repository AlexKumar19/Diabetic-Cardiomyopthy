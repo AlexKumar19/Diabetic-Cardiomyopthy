{
 "cells": [
  {
   "cell_type": "code",
   "execution_count": 17,
   "metadata": {},
   "outputs": [],
   "source": [
    "import random\n",
    "numlist = []\n",
    "for i in range(147):\n",
    "    number=random.randrange(0,1497)\n",
    "    numlist.append(number)"
   ]
  },
  {
   "cell_type": "code",
   "execution_count": 18,
   "metadata": {},
   "outputs": [],
   "source": [
    "smiles = []\n",
    "with open(\"FDASmiles.csv\", \"r\") as ins:\n",
    "    for line in ins:\n",
    "        smiles.append(line.split('\\n')[0])\n",
    "controlsmiles = []\n",
    "for i in numlist:\n",
    "    controlsmiles.append(smiles[i])"
   ]
  },
  {
   "cell_type": "code",
   "execution_count": 19,
   "metadata": {},
   "outputs": [],
   "source": [
    "from padelpy import from_smiles\n",
    "_ = from_smiles(controlsmiles[0:25], output_csv='FDA.csv')"
   ]
  },
  {
   "cell_type": "code",
   "execution_count": 20,
   "metadata": {},
   "outputs": [],
   "source": [
    "_ = from_smiles(controlsmiles[25:30], output_csv='FDA1.csv')"
   ]
  },
  {
   "cell_type": "code",
   "execution_count": 21,
   "metadata": {},
   "outputs": [],
   "source": [
    "_ = from_smiles(controlsmiles[30:35], output_csv='FDA2.csv')"
   ]
  },
  {
   "cell_type": "code",
   "execution_count": 22,
   "metadata": {},
   "outputs": [],
   "source": [
    "_ = from_smiles(controlsmiles[35:50], output_csv='FDA3.csv')"
   ]
  },
  {
   "cell_type": "code",
   "execution_count": 23,
   "metadata": {},
   "outputs": [],
   "source": [
    "_ = from_smiles(controlsmiles[50:65], output_csv='FDA4.csv')"
   ]
  },
  {
   "cell_type": "code",
   "execution_count": 24,
   "metadata": {},
   "outputs": [],
   "source": [
    "_ = from_smiles(controlsmiles[65:85], output_csv='FDA5.csv')"
   ]
  },
  {
   "cell_type": "code",
   "execution_count": 25,
   "metadata": {},
   "outputs": [],
   "source": [
    "_ = from_smiles(controlsmiles[85:100], output_csv='FDA6.csv')"
   ]
  },
  {
   "cell_type": "code",
   "execution_count": 27,
   "metadata": {},
   "outputs": [],
   "source": [
    "_ = from_smiles(controlsmiles[100:120], output_csv='FDA7.csv')"
   ]
  },
  {
   "cell_type": "code",
   "execution_count": 31,
   "metadata": {},
   "outputs": [],
   "source": [
    "import pandas as pd\n",
    "df1 = pd.read_csv('FDA.csv')\n",
    "df2 = pd.read_csv('FDA1.csv')\n",
    "df3 = pd.read_csv('FDA2.csv')\n",
    "df4 = pd.read_csv('FDA3.csv')\n",
    "df5 = pd.read_csv('FDA4.csv')\n",
    "df6 = pd.read_csv('FDA5.csv')\n",
    "df7 = pd.read_csv('FDA6.csv')\n",
    "df8 = pd.read_csv('FDA7.csv')\n",
    "\n",
    "maindf = [df1,df2,df3,df4,df5,df6,df7,df8]\n",
    "\n",
    "totaldf=pd.concat(maindf)"
   ]
  },
  {
   "cell_type": "code",
   "execution_count": 32,
   "metadata": {},
   "outputs": [],
   "source": [
    "totaldf.to_csv('FDAControl.csv')"
   ]
  }
 ],
 "metadata": {
  "kernelspec": {
   "display_name": "Python 3",
   "language": "python",
   "name": "python3"
  },
  "language_info": {
   "codemirror_mode": {
    "name": "ipython",
    "version": 3
   },
   "file_extension": ".py",
   "mimetype": "text/x-python",
   "name": "python",
   "nbconvert_exporter": "python",
   "pygments_lexer": "ipython3",
   "version": "3.8.10 (default, Jun 22 2022, 20:18:18) \n[GCC 9.4.0]"
  },
  "orig_nbformat": 4,
  "vscode": {
   "interpreter": {
    "hash": "916dbcbb3f70747c44a77c7bcd40155683ae19c65e1c03b4aa3499c5328201f1"
   }
  }
 },
 "nbformat": 4,
 "nbformat_minor": 2
}
