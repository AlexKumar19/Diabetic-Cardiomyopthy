{
 "cells": [
  {
   "cell_type": "code",
   "execution_count": 24,
   "metadata": {},
   "outputs": [
    {
     "data": {
      "image/png": "[encoded data removed]",
      "text/plain": [
       "<Figure size 432x288 with 1 Axes>"
      ]
     },
     "metadata": {
      "needs_background": "light"
     },
     "output_type": "display_data"
    }
   ],
   "source": [
    "import pandas as pd\n",
    "import matplotlib.pyplot as plt\n",
    "\n",
    "# Load the csv file into a pandas DataFrame\n",
    "df = pd.read_csv(\"DockingData.csv\")\n",
    "\n",
    "# Create a list of the columns to plot\n",
    "columns = [\"FDA\", \"inhibitor\", \"non inhibitor\"]\n",
    "fda = df[\"FDA\"]\n",
    "inhibitor = df[\"inhibitor\"]\n",
    "non_inhibitor = df[\"non inhibitor\"]\n",
    "\n",
    "data_sets = [fda, inhibitor, non_inhibitor]\n",
    "\n",
    "# Plot all data sets on one graph\n",
    "fig, ax = plt.subplots()\n",
    "ax.boxplot(data_sets)\n",
    "ax.set_xticklabels([\"FDA\", \"inhibitor\", \"non-inhibitor\"])\n",
    "plt.title(\"Docking Scores\")\n",
    "plt.xlabel(\"Category\")\n",
    "plt.ylabel(\"Score\")\n",
    "plt.show()\n"
   ]
  },
  {
   "cell_type": "code",
   "execution_count": 4,
   "metadata": {},
   "outputs": [
    {
     "data": {
      "text/plain": [
       "0    -3.8\n",
       "1    -3.7\n",
       "2    -5.3\n",
       "3    -5.4\n",
       "4    -6.0\n",
       "     ... \n",
       "72    NaN\n",
       "73    NaN\n",
       "74    NaN\n",
       "75    NaN\n",
       "76    NaN\n",
       "Name: FDA, Length: 77, dtype: float64"
      ]
     },
     "execution_count": 4,
     "metadata": {},
     "output_type": "execute_result"
    }
   ],
   "source": [
    "df[\"FDA\"]"
   ]
  }
 ],
 "metadata": {
  "kernelspec": {
   "display_name": "base",
   "language": "python",
   "name": "python3"
  },
  "language_info": {
   "codemirror_mode": {
    "name": "ipython",
    "version": 3
   },
   "file_extension": ".py",
   "mimetype": "text/x-python",
   "name": "python",
   "nbconvert_exporter": "python",
   "pygments_lexer": "ipython3",
   "version": "3.9.12"
  },
  "orig_nbformat": 4,
  "vscode": {
   "interpreter": {
    "hash": "126971108c560ce75295ac26010652a3ef02492d6f02a0c6c09b249494330c5a"
   }
  }
 },
 "nbformat": 4,
 "nbformat_minor": 2
}
