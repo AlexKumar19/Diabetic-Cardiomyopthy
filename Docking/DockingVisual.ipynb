{
 "cells": [
  {
   "cell_type": "code",
   "execution_count": 43,
   "metadata": {},
   "outputs": [
    {
     "data": {
      "image/png": "[encoded data removed]",
      "text/plain": [
       "<Figure size 432x288 with 1 Axes>"
      ]
     },
     "metadata": {
      "needs_background": "light"
     },
     "output_type": "display_data"
    }
   ],
   "source": [
    "import pandas as pd\n",
    "import matplotlib.pyplot as plt\n",
    "\n",
    "# Load the csv file into a pandas DataFrame\n",
    "df = pd.read_csv(\"DockingData2.csv\")\n",
    "\n",
    "# Create a list of the columns to plot\n",
    "columns = [\"FDA\", \"inhibitor\", \"non inhibitor\"]\n",
    "fda = df[\"FDA\"]\n",
    "inhibitor = df[\"inhibitor\"]\n",
    "non_inhibitor = df[\"non inhibitor\"]\n",
    "\n",
    "data_sets = [fda, inhibitor, non_inhibitor]\n",
    "\n",
    "# Plot all data sets on one graph\n",
    "fig, ax = plt.subplots()\n",
    "ax.boxplot(data_sets)\n",
    "ax.set_xticklabels([\"Predicted Inhibitors\", \"Known inhibitor\", \"Non-inhibitor\"])\n",
    "plt.title(\"Docking Data\")\n",
    "plt.xlabel(\"Category\")\n",
    "plt.ylabel(\"ΔG of Binding (kcal/mol)\")\n",
    "plt.show()\n"
   ]
  },
  {
   "cell_type": "code",
   "execution_count": 42,
   "metadata": {},
   "outputs": [
    {
     "name": "stdout",
     "output_type": "stream",
     "text": [
      "Mean 1: -7.62\n",
      "Variance 1: 2.9604000000000004\n",
      "Number of observations 1: 50\n",
      "Mean 2: -10.066\n",
      "Variance 2: 1.0422440000000002\n",
      "Number of observations 2: 50\n",
      "Hypothesized mean difference: -2.4460000000000006\n"
     ]
    }
   ],
   "source": [
    "import csv\n",
    "import numpy as np\n",
    "\n",
    "# Read the data from the CSV file\n",
    "data = []\n",
    "with open('DockingData2.csv') as csvfile:\n",
    "    reader = csv.reader(csvfile)\n",
    "    for row in reader:\n",
    "        data.append(row)\n",
    "\n",
    "\n",
    "# Extract the two columns of data into separate lists\n",
    "random = [float(row[2]) for row in data[1:]]\n",
    "col2 = [float(row[0]) for row in data[1:]]\n",
    "\n",
    "# Calculate the mean, variance, and number of observations for each column\n",
    "mean1 = np.mean(random)\n",
    "var1 = np.var(random)\n",
    "n1 = len(random)\n",
    "mean2 = np.mean(col2)\n",
    "var2 = np.var(col2)\n",
    "n2 = len(col2)\n",
    "\n",
    "# Calculate the hypothesized mean difference\n",
    "hypothesized_mean_difference = mean2 - mean1\n",
    "\n",
    "# Output the results\n",
    "print(\"Mean 1:\", mean1)\n",
    "print(\"Variance 1:\", var1)\n",
    "print(\"Number of observations 1:\", n1)\n",
    "print(\"Mean 2:\", mean2)\n",
    "print(\"Variance 2:\", var2)\n",
    "print(\"Number of observations 2:\", n2)\n",
    "print(\"Hypothesized mean difference:\", hypothesized_mean_difference)\n"
   ]
  },
  {
   "cell_type": "code",
   "execution_count": 5,
   "metadata": {},
   "outputs": [
    {
     "name": "stdout",
     "output_type": "stream",
     "text": [
      "T-statistic:  -8.006309177841548\n",
      "P-value:  2.459529047162583e-12\n"
     ]
    }
   ],
   "source": [
    "import csv\n",
    "import numpy as np\n",
    "from scipy.stats import ttest_ind\n",
    "import numpy as np\n",
    "from scipy import stats\n",
    "\n",
    "# Load the data from a CSV file\n",
    "data = []\n",
    "with open('DockingData2.csv', 'r') as f:\n",
    "    reader = csv.reader(f)\n",
    "    header = next(reader) # skip the header row\n",
    "    for row in reader:\n",
    "        data.append([float(x) for x in row])\n",
    "\n",
    "# Convert the data into two separate arrays\n",
    "column1 = [x[0] for x in data]\n",
    "column2 = [x[2] for x in data]\n",
    "\n",
    "def two_tailed_t_test(data1, data2):\n",
    "    t, p = stats.ttest_ind(data1, data2)\n",
    "    return t, p\n",
    "\n",
    "\n",
    "\n",
    "t, p = two_tailed_t_test(column1, column2)\n",
    "\n",
    "print(\"T-statistic: \", t)\n",
    "print(\"P-value: \", p)"
   ]
  },
  {
   "cell_type": "code",
   "execution_count": 7,
   "metadata": {},
   "outputs": [
    {
     "data": {
      "text/plain": [
       "[-10.8,\n",
       " -10.6,\n",
       " -10.5,\n",
       " -10.5,\n",
       " -10.4,\n",
       " -9.9,\n",
       " -9.6,\n",
       " -9.6,\n",
       " -9.3,\n",
       " -9.2,\n",
       " -9.1,\n",
       " -9.0,\n",
       " -8.8,\n",
       " -8.8,\n",
       " -8.6,\n",
       " -8.5,\n",
       " -8.5,\n",
       " -8.5,\n",
       " -8.3,\n",
       " -8.1,\n",
       " -7.9,\n",
       " -7.9,\n",
       " -7.8,\n",
       " -7.6,\n",
       " -7.5,\n",
       " -7.4,\n",
       " -7.4,\n",
       " -7.3,\n",
       " -8.4,\n",
       " -7.2,\n",
       " -6.9,\n",
       " -6.8,\n",
       " -6.5,\n",
       " -8.6,\n",
       " -8.4,\n",
       " -8.1,\n",
       " -6.1,\n",
       " -6.1,\n",
       " -5.8,\n",
       " -5.7,\n",
       " -5.6,\n",
       " -5.3,\n",
       " -8.9,\n",
       " -8.1,\n",
       " -8.8,\n",
       " -7.6,\n",
       " -8.5,\n",
       " -7.1,\n",
       " -7.8,\n",
       " -7.0]"
      ]
     },
     "execution_count": 7,
     "metadata": {},
     "output_type": "execute_result"
    }
   ],
   "source": [
    "column2"
   ]
  }
 ],
 "metadata": {
  "kernelspec": {
   "display_name": "base",
   "language": "python",
   "name": "python3"
  },
  "language_info": {
   "codemirror_mode": {
    "name": "ipython",
    "version": 3
   },
   "file_extension": ".py",
   "mimetype": "text/x-python",
   "name": "python",
   "nbconvert_exporter": "python",
   "pygments_lexer": "ipython3",
   "version": "3.9.12"
  },
  "orig_nbformat": 4,
  "vscode": {
   "interpreter": {
    "hash": "126971108c560ce75295ac26010652a3ef02492d6f02a0c6c09b249494330c5a"
   }
  }
 },
 "nbformat": 4,
 "nbformat_minor": 2
}
