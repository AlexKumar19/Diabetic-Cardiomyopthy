{
 "cells": [
  {
   "cell_type": "code",
   "execution_count": 1,
   "metadata": {},
   "outputs": [
    {
     "name": "stdout",
     "output_type": "stream",
     "text": [
      "147 12\n"
     ]
    }
   ],
   "source": [
    "from padelpy import from_smiles\n",
    "\n",
    "smiles = []\n",
    "with open(\"ControlData.csv\", \"r\") as ins:\n",
    "    for line in ins:\n",
    "        smiles.append(line.split('\\n')[0])\n",
    "smiles2 = []\n",
    "with open(\"ControlData2.csv\", \"r\") as ins2:\n",
    "    for line in ins2:\n",
    "        smiles2.append(line.split('\\n')[0])\n",
    "descriptors = []\n",
    "print(len(smiles), len(smiles2))\n"
   ]
  },
  {
   "cell_type": "code",
   "execution_count": 2,
   "metadata": {},
   "outputs": [],
   "source": [
    "_ = from_smiles(smiles[0:50], output_csv='Control.csv')"
   ]
  },
  {
   "cell_type": "code",
   "execution_count": 3,
   "metadata": {},
   "outputs": [],
   "source": [
    "_ = from_smiles(smiles[50:65], output_csv='Control1.csv')"
   ]
  },
  {
   "cell_type": "code",
   "execution_count": 4,
   "metadata": {},
   "outputs": [],
   "source": [
    "_ = from_smiles(smiles[65:86], output_csv='Control2.csv')"
   ]
  },
  {
   "cell_type": "code",
   "execution_count": 5,
   "metadata": {},
   "outputs": [],
   "source": [
    "_ = from_smiles(smiles[86:100], output_csv='Control3.csv')"
   ]
  },
  {
   "cell_type": "code",
   "execution_count": 6,
   "metadata": {},
   "outputs": [],
   "source": [
    "_ = from_smiles(smiles[100:125], output_csv='Control4.csv')"
   ]
  },
  {
   "cell_type": "code",
   "execution_count": 7,
   "metadata": {},
   "outputs": [],
   "source": [
    "_ = from_smiles(smiles[125:135], output_csv='Control5.csv')"
   ]
  },
  {
   "cell_type": "code",
   "execution_count": 8,
   "metadata": {},
   "outputs": [],
   "source": [
    "_ = from_smiles(smiles2[0:13], output_csv='Control6.csv')"
   ]
  },
  {
   "cell_type": "code",
   "execution_count": 9,
   "metadata": {},
   "outputs": [],
   "source": [
    "import pandas as pd\n",
    "df1 = pd.read_csv('Control.csv')\n",
    "df2 = pd.read_csv('Control1.csv')\n",
    "df3 = pd.read_csv('Control2.csv')\n",
    "df4 = pd.read_csv('Control3.csv')\n",
    "df5 = pd.read_csv('Control4.csv')\n",
    "df6 = pd.read_csv('Control5.csv')\n",
    "df7 = pd.read_csv('Control6.csv')"
   ]
  },
  {
   "cell_type": "code",
   "execution_count": 10,
   "metadata": {},
   "outputs": [],
   "source": [
    "fulldf = [df1, df2, df3, df4, df5, df6, df7]"
   ]
  },
  {
   "cell_type": "code",
   "execution_count": 11,
   "metadata": {},
   "outputs": [],
   "source": [
    "finaldf = pd.concat(fulldf)"
   ]
  },
  {
   "cell_type": "code",
   "execution_count": 12,
   "metadata": {},
   "outputs": [],
   "source": [
    "finaldf.to_csv('finalControl.csv')"
   ]
  }
 ],
 "metadata": {
  "kernelspec": {
   "display_name": "base",
   "language": "python",
   "name": "python3"
  },
  "language_info": {
   "codemirror_mode": {
    "name": "ipython",
    "version": 3
   },
   "file_extension": ".py",
   "mimetype": "text/x-python",
   "name": "python",
   "nbconvert_exporter": "python",
   "pygments_lexer": "ipython3",
   "version": "3.9.12 (main, Apr  5 2022, 06:56:58) \n[GCC 7.5.0]"
  },
  "orig_nbformat": 4,
  "vscode": {
   "interpreter": {
    "hash": "126971108c560ce75295ac26010652a3ef02492d6f02a0c6c09b249494330c5a"
   }
  }
 },
 "nbformat": 4,
 "nbformat_minor": 2
}
