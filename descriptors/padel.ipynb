{
 "cells": [
  {
   "cell_type": "code",
   "execution_count": 9,
   "metadata": {},
   "outputs": [],
   "source": [
    "from padelpy import from_smiles\n",
    "\n",
    "smiles = []\n",
    "with open(\"finalsmiles.csv\", \"r\") as ins:\n",
    "    for line in ins:\n",
    "        smiles.append(line.split('\\n')[0])\n",
    "descriptors = []\n",
    "\n",
    "_ = from_smiles(smiles[0:50], output_csv='descriptors1.csv')\n",
    "\n",
    "\n"
   ]
  },
  {
   "cell_type": "code",
   "execution_count": 10,
   "metadata": {},
   "outputs": [],
   "source": [
    "_ = from_smiles(smiles[50:80], output_csv='descriptors2.csv')"
   ]
  },
  {
   "cell_type": "code",
   "execution_count": 11,
   "metadata": {},
   "outputs": [],
   "source": [
    "_ = from_smiles(smiles[80:120], output_csv='descriptors3.csv')\n"
   ]
  },
  {
   "cell_type": "code",
   "execution_count": 12,
   "metadata": {},
   "outputs": [],
   "source": [
    "_ = from_smiles(smiles[120:147], output_csv='descriptors4.csv')\n"
   ]
  },
  {
   "cell_type": "code",
   "execution_count": 13,
   "metadata": {},
   "outputs": [],
   "source": [
    "import pandas as pd\n",
    "df1 = pd.read_csv('descriptors1.csv')\n",
    "df2 = pd.read_csv('descriptors2.csv')\n",
    "df3 = pd.read_csv('descriptors3.csv')\n",
    "df4 = pd.read_csv('descriptors4.csv')"
   ]
  },
  {
   "cell_type": "code",
   "execution_count": 14,
   "metadata": {},
   "outputs": [],
   "source": [
    "frames = [df1, df2, df3, df4]\n",
    "bigdf = pd.concat(frames)"
   ]
  },
  {
   "cell_type": "code",
   "execution_count": 15,
   "metadata": {},
   "outputs": [],
   "source": [
    "bigdf.to_csv('finaldescriptor.csv')"
   ]
  }
 ],
 "metadata": {
  "kernelspec": {
   "display_name": "base",
   "language": "python",
   "name": "python3"
  },
  "language_info": {
   "codemirror_mode": {
    "name": "ipython",
    "version": 3
   },
   "file_extension": ".py",
   "mimetype": "text/x-python",
   "name": "python",
   "nbconvert_exporter": "python",
   "pygments_lexer": "ipython3",
   "version": "3.9.12"
  },
  "orig_nbformat": 4,
  "vscode": {
   "interpreter": {
    "hash": "126971108c560ce75295ac26010652a3ef02492d6f02a0c6c09b249494330c5a"
   }
  }
 },
 "nbformat": 4,
 "nbformat_minor": 2
}
