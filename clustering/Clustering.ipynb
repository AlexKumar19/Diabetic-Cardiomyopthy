{
 "cells": [
  {
   "cell_type": "code",
   "execution_count": 110,
   "metadata": {},
   "outputs": [
    {
     "name": "stdout",
     "output_type": "stream",
     "text": [
      "# of SMILES: 2239\n"
     ]
    }
   ],
   "source": [
    "from rdkit import DataStructs, Chem\n",
    "import rdkit\n",
    "from rdkit import Chem\n",
    "from rdkit.Chem import AllChem\n",
    "from pandas import pandas\n",
    "from rdkit.Chem import Draw\n",
    "from rdkit.Chem.Draw import IPythonConsole\n",
    "from rdkit import ML\n",
    "from rdkit.ML import Cluster\n",
    "from rdkit.ML.Cluster import Butina\n",
    "\n",
    "\n",
    "smiles = []\n",
    "with open(\"Smiles.csv\", \"r\") as ins:\n",
    "    for line in ins:\n",
    "        smiles.append(line.split('\\n')[0])\n",
    "print('# of SMILES:', len(smiles))\n",
    "moles = []\n",
    "for i in smiles:\n",
    "    moles.append(Chem.MolFromSmiles(i))\n",
    "\n",
    "radius=3\n",
    "nBits=500000\n",
    "Fingerprints = [AllChem.GetMorganFingerprintAsBitVect(x,3 , nBits=nBits) for x in moles]"
   ]
  },
  {
   "cell_type": "code",
   "execution_count": 111,
   "metadata": {},
   "outputs": [],
   "source": [
    "def ClusterFps(fps,cutoff):\n",
    "    from rdkit import DataStructs\n",
    "    from rdkit.ML.Cluster import Butina\n",
    "\n",
    "    # first generate the distance matrix:\n",
    "    dists = []\n",
    "    nfps = len(fps)\n",
    "    for i in range(1,nfps):\n",
    "        sims = DataStructs.BulkTanimotoSimilarity(fps[i],fps[:i])\n",
    "        dists.extend([1-x for x in sims])\n",
    "\n",
    "    # now cluster the data:\n",
    "    cs = Butina.ClusterData(dists,nfps,cutoff,isDistData=True)\n",
    "    return cs\n",
    "clusters = ClusterFps(Fingerprints, cutoff=0.45)\n"
   ]
  },
  {
   "cell_type": "code",
   "execution_count": 141,
   "metadata": {},
   "outputs": [],
   "source": [
    "#show one of the clusters\n",
    "\n",
    "\n",
    "#now display structures from one of the clusters\n",
    "from rdkit.Chem import Draw\n",
    "from rdkit.Chem.Draw import IPythonConsole\n",
    "#print(len(Fingerprints))\n",
    "#print(len(clusters))\n",
    "# for i in range(len(clusters)):\n",
    "#    print(len(clusters[i]))\n",
    "#\n",
    "newfingers = []\n",
    "for i in range(len(clusters[0])):\n",
    "   newfingers.append(Fingerprints[clusters[0][i]])\n",
    "newsmiles = []\n",
    "for i in range(len(clusters[0])):\n",
    "   newsmiles.append(smiles[clusters[0][i]])\n",
    "\n",
    "import pandas as pd\n",
    "df = pd.DataFrame (newsmiles, columns = ['smiles'])\n",
    "df.head()\n",
    "df.to_csv('ClusteredData.csv')"
   ]
  }
 ],
 "metadata": {
  "kernelspec": {
   "display_name": "base",
   "language": "python",
   "name": "python3"
  },
  "language_info": {
   "codemirror_mode": {
    "name": "ipython",
    "version": 3
   },
   "file_extension": ".py",
   "mimetype": "text/x-python",
   "name": "python",
   "nbconvert_exporter": "python",
   "pygments_lexer": "ipython3",
   "version": "3.9.12"
  },
  "orig_nbformat": 4,
  "vscode": {
   "interpreter": {
    "hash": "126971108c560ce75295ac26010652a3ef02492d6f02a0c6c09b249494330c5a"
   }
  }
 },
 "nbformat": 4,
 "nbformat_minor": 2
}
